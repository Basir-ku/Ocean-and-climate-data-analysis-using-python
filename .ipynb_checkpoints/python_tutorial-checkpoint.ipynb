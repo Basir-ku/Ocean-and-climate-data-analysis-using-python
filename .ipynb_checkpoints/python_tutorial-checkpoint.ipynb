{
 "cells": [
  {
   "cell_type": "markdown",
   "id": "7a0cbf90",
   "metadata": {},
   "source": [
    "# 3. An Informal Introduction to Python"
   ]
  },
  {
   "cell_type": "markdown",
   "id": "50357772",
   "metadata": {},
   "source": [
    "# 3.1. Using Python as a Calculator"
   ]
  },
  {
   "cell_type": "markdown",
   "id": "c3a3dfd0",
   "metadata": {},
   "source": [
    "# 3.1.1. Numbers"
   ]
  },
  {
   "cell_type": "code",
   "execution_count": 2,
   "id": "31c286e7",
   "metadata": {},
   "outputs": [
    {
     "data": {
      "text/plain": [
       "20"
      ]
     },
     "execution_count": 2,
     "metadata": {},
     "output_type": "execute_result"
    }
   ],
   "source": [
    "2+2"
   ]
  },
  {
   "cell_type": "code",
   "execution_count": 3,
   "id": "f0932d04",
   "metadata": {},
   "outputs": [
    {
     "data": {
      "text/plain": [
       "20"
      ]
     },
     "execution_count": 3,
     "metadata": {},
     "output_type": "execute_result"
    }
   ],
   "source": [
    "50-5*6"
   ]
  },
  {
   "cell_type": "code",
   "execution_count": 4,
   "id": "0734c628",
   "metadata": {},
   "outputs": [
    {
     "data": {
      "text/plain": [
       "5.0"
      ]
     },
     "execution_count": 4,
     "metadata": {},
     "output_type": "execute_result"
    }
   ],
   "source": [
    "(50-5*6)/4"
   ]
  },
  {
   "cell_type": "code",
   "execution_count": 5,
   "id": "632fe23f",
   "metadata": {},
   "outputs": [
    {
     "data": {
      "text/plain": [
       "1.6"
      ]
     },
     "execution_count": 5,
     "metadata": {},
     "output_type": "execute_result"
    }
   ],
   "source": [
    "8/5  #division always return floating point number"
   ]
  },
  {
   "cell_type": "code",
   "execution_count": 7,
   "id": "c2a6ceb2",
   "metadata": {},
   "outputs": [
    {
     "data": {
      "text/plain": [
       "5.666666666666667"
      ]
     },
     "execution_count": 7,
     "metadata": {},
     "output_type": "execute_result"
    }
   ],
   "source": [
    "17/3  #classical division returns a float"
   ]
  },
  {
   "cell_type": "code",
   "execution_count": 8,
   "id": "cca416dc",
   "metadata": {},
   "outputs": [
    {
     "data": {
      "text/plain": [
       "5"
      ]
     },
     "execution_count": 8,
     "metadata": {},
     "output_type": "execute_result"
    }
   ],
   "source": [
    "17//3 #floor divsion discards the fractional part"
   ]
  },
  {
   "cell_type": "code",
   "execution_count": 9,
   "id": "86ba1073",
   "metadata": {},
   "outputs": [
    {
     "data": {
      "text/plain": [
       "2"
      ]
     },
     "execution_count": 9,
     "metadata": {},
     "output_type": "execute_result"
    }
   ],
   "source": [
    "17%3 #the % operator returns the reminder of the divison"
   ]
  },
  {
   "cell_type": "code",
   "execution_count": 10,
   "id": "e93a8cc2",
   "metadata": {},
   "outputs": [
    {
     "data": {
      "text/plain": [
       "17"
      ]
     },
     "execution_count": 10,
     "metadata": {},
     "output_type": "execute_result"
    }
   ],
   "source": [
    "5*3+2 #floor quotient `* divisor +reminder"
   ]
  },
  {
   "cell_type": "code",
   "execution_count": 11,
   "id": "a53aada7",
   "metadata": {},
   "outputs": [
    {
     "data": {
      "text/plain": [
       "25"
      ]
     },
     "execution_count": 11,
     "metadata": {},
     "output_type": "execute_result"
    }
   ],
   "source": [
    "5**2 # 5 squared"
   ]
  },
  {
   "cell_type": "code",
   "execution_count": 12,
   "id": "a83100b8",
   "metadata": {},
   "outputs": [
    {
     "data": {
      "text/plain": [
       "128"
      ]
     },
     "execution_count": 12,
     "metadata": {},
     "output_type": "execute_result"
    }
   ],
   "source": [
    "2**7 # 2 to the power 7"
   ]
  },
  {
   "cell_type": "code",
   "execution_count": 13,
   "id": "89b24e13",
   "metadata": {},
   "outputs": [
    {
     "data": {
      "text/plain": [
       "900"
      ]
     },
     "execution_count": 13,
     "metadata": {},
     "output_type": "execute_result"
    }
   ],
   "source": [
    "# The equal sign (=) is used to assign a value to a variable\n",
    "width=20\n",
    "height=5*9\n",
    "width*height"
   ]
  },
  {
   "cell_type": "code",
   "execution_count": 14,
   "id": "ae2bf906",
   "metadata": {},
   "outputs": [
    {
     "ename": "NameError",
     "evalue": "name 'n' is not defined",
     "output_type": "error",
     "traceback": [
      "\u001b[0;31m---------------------------------------------------------------------------\u001b[0m",
      "\u001b[0;31mNameError\u001b[0m                                 Traceback (most recent call last)",
      "\u001b[0;32m/var/folders/vj/2fsd02sj7rn0y103cxtdzbq80000gn/T/ipykernel_964/1249512285.py\u001b[0m in \u001b[0;36m<module>\u001b[0;34m\u001b[0m\n\u001b[0;32m----> 1\u001b[0;31m \u001b[0mn\u001b[0m\u001b[0;34m\u001b[0m\u001b[0;34m\u001b[0m\u001b[0m\n\u001b[0m",
      "\u001b[0;31mNameError\u001b[0m: name 'n' is not defined"
     ]
    }
   ],
   "source": [
    "n"
   ]
  },
  {
   "cell_type": "code",
   "execution_count": 15,
   "id": "cdd4dbb2",
   "metadata": {},
   "outputs": [
    {
     "data": {
      "text/plain": [
       "14.0"
      ]
     },
     "execution_count": 15,
     "metadata": {},
     "output_type": "execute_result"
    }
   ],
   "source": [
    "4*3.75-1"
   ]
  },
  {
   "cell_type": "code",
   "execution_count": 23,
   "id": "b9033955",
   "metadata": {},
   "outputs": [
    {
     "data": {
      "text/plain": [
       "12.5625"
      ]
     },
     "execution_count": 23,
     "metadata": {},
     "output_type": "execute_result"
    }
   ],
   "source": [
    "tax=12.5/100\n",
    "price=100.50\n",
    "price*tax"
   ]
  },
  {
   "cell_type": "code",
   "execution_count": 24,
   "id": "9979d485",
   "metadata": {},
   "outputs": [
    {
     "data": {
      "text/plain": [
       "113.0625"
      ]
     },
     "execution_count": 24,
     "metadata": {},
     "output_type": "execute_result"
    }
   ],
   "source": [
    "price+_ #In interactive mode, the last printed expression is assigned to the variable _"
   ]
  },
  {
   "cell_type": "code",
   "execution_count": 25,
   "id": "fdd02b67",
   "metadata": {},
   "outputs": [
    {
     "data": {
      "text/plain": [
       "113.06"
      ]
     },
     "execution_count": 25,
     "metadata": {},
     "output_type": "execute_result"
    }
   ],
   "source": [
    "round(_,2)"
   ]
  },
  {
   "cell_type": "markdown",
   "id": "8fa1b238",
   "metadata": {},
   "source": [
    "# 3.1.2. Strings"
   ]
  },
  {
   "cell_type": "code",
   "execution_count": null,
   "id": "a5e0429a",
   "metadata": {},
   "outputs": [],
   "source": []
  }
 ],
 "metadata": {
  "kernelspec": {
   "display_name": "Python 3 (ipykernel)",
   "language": "python",
   "name": "python3"
  },
  "language_info": {
   "codemirror_mode": {
    "name": "ipython",
    "version": 3
   },
   "file_extension": ".py",
   "mimetype": "text/x-python",
   "name": "python",
   "nbconvert_exporter": "python",
   "pygments_lexer": "ipython3",
   "version": "3.9.7"
  }
 },
 "nbformat": 4,
 "nbformat_minor": 5
}
