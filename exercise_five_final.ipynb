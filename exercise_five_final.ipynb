{
 "cells": [
  {
   "cell_type": "code",
   "execution_count": 42,
   "id": "432d60d6",
   "metadata": {},
   "outputs": [],
   "source": [
    "import xarray as xr\n",
    "import seaborn as sns\n",
    "import matplotlib.pyplot as plt\n",
    "import numpy as np\n",
    "import scipy.stats"
   ]
  },
  {
   "cell_type": "code",
   "execution_count": 43,
   "id": "eaffe1d6",
   "metadata": {},
   "outputs": [],
   "source": [
    "fname = 'May2000-uvt.nc'\n",
    "ds = xr.open_dataset(fname)"
   ]
  },
  {
   "cell_type": "code",
   "execution_count": 44,
   "id": "3ecd979d",
   "metadata": {},
   "outputs": [],
   "source": [
    "#select a latitude in north hemisphere lambda 40 and symmetric in south hemisphere -40\n",
    "\n",
    "#Plot histograms for the zonal wind at north hemisphere and south hemisphere and at pressure level 500mb.\n",
    "\n",
    "#for north hemisphere\n",
    "wu1 = ds.u.sel(latitude=40,level=500,  method=\"nearest\") #zonal component\n",
    "df   = wu1.to_dataframe()\n",
    "df1  = df.reset_index(level='longitude')\n",
    "\n",
    "\n",
    "#calculate mean and std\n",
    "\n",
    "mean1 = np.mean(df1.u)\n",
    "std1 = np.std(df1.u, ddof=1)\n",
    "\n"
   ]
  },
  {
   "cell_type": "code",
   "execution_count": 45,
   "id": "5966b3ff",
   "metadata": {},
   "outputs": [
    {
     "data": {
      "text/plain": [
       "12.60075569152832"
      ]
     },
     "execution_count": 45,
     "metadata": {},
     "output_type": "execute_result"
    }
   ],
   "source": [
    "mean1"
   ]
  },
  {
   "cell_type": "code",
   "execution_count": 46,
   "id": "87db842a",
   "metadata": {},
   "outputs": [
    {
     "data": {
      "text/plain": [
       "9.794513702392578"
      ]
     },
     "execution_count": 46,
     "metadata": {},
     "output_type": "execute_result"
    }
   ],
   "source": [
    "std1"
   ]
  },
  {
   "cell_type": "code",
   "execution_count": 47,
   "id": "36cf5278",
   "metadata": {},
   "outputs": [
    {
     "data": {
      "image/png": "[encoded data removed]",
      "text/plain": [
       "<Figure size 432x288 with 1 Axes>"
      ]
     },
     "metadata": {},
     "output_type": "display_data"
    }
   ],
   "source": [
    "ax1=plt.subplot(2,1,1)\n",
    "sns.set(style=\"darkgrid\") \n",
    "sns.histplot(data=df1.u,ax=ax1, stat=\"density\",kde=True)\n",
    "sns.kdeplot(data=df1.u,ax=ax1, color=\"red\")\n",
    "plt.title(\"zonal wind at 40N\")\n",
    "plt.savefig('Ex5_north',dpi=1000)"
   ]
  },
  {
   "cell_type": "code",
   "execution_count": 48,
   "id": "2911ae3a",
   "metadata": {},
   "outputs": [],
   "source": [
    "######for south hemispher \n",
    "wu2 = ds.u.sel(latitude= -40,level=500, method=\"nearest\")\n",
    "\n",
    "df2   = wu2.to_dataframe()\n",
    "df3  = df2.reset_index(level='longitude')"
   ]
  },
  {
   "cell_type": "code",
   "execution_count": 49,
   "id": "13845287",
   "metadata": {},
   "outputs": [],
   "source": [
    "#calculate mean and std\n",
    "\n",
    "mean2 = np.mean(df3.u)\n",
    "std2 = np.std(df3.u, ddof=1)"
   ]
  },
  {
   "cell_type": "code",
   "execution_count": 50,
   "id": "12995152",
   "metadata": {},
   "outputs": [
    {
     "data": {
      "text/plain": [
       "15.396017074584961"
      ]
     },
     "execution_count": 50,
     "metadata": {},
     "output_type": "execute_result"
    }
   ],
   "source": [
    "mean2"
   ]
  },
  {
   "cell_type": "code",
   "execution_count": 51,
   "id": "b1771ff6",
   "metadata": {},
   "outputs": [
    {
     "data": {
      "text/plain": [
       "10.888506889343262"
      ]
     },
     "execution_count": 51,
     "metadata": {},
     "output_type": "execute_result"
    }
   ],
   "source": [
    "std2"
   ]
  },
  {
   "cell_type": "code",
   "execution_count": 52,
   "id": "9fb63467",
   "metadata": {},
   "outputs": [
    {
     "data": {
      "image/png": "[encoded data removed]",
      "text/plain": [
       "<Figure size 432x288 with 1 Axes>"
      ]
     },
     "metadata": {},
     "output_type": "display_data"
    }
   ],
   "source": [
    "ax2=plt.subplot(2,1,2)\n",
    "sns.set(style=\"darkgrid\")\n",
    "sns.histplot(data=df3.u,ax=ax2,stat=\"density\",kde=True)\n",
    "sns.kdeplot(data=df3.u, ax=ax2, color=\"red\")\n",
    "plt.title(\"zonal wind at 40S\")\n",
    "plt.savefig('Ex5_south',dpi=1000)"
   ]
  },
  {
   "cell_type": "code",
   "execution_count": 53,
   "id": "b4a25e7e",
   "metadata": {},
   "outputs": [
    {
     "name": "stdout",
     "output_type": "stream",
     "text": [
      "The Samples do not have the same mean\n"
     ]
    },
    {
     "name": "stderr",
     "output_type": "stream",
     "text": [
      "/Users/mohammadbasiruddin/opt/anaconda3/lib/python3.9/site-packages/numpy/core/fromnumeric.py:3702: RuntimeWarning: Degrees of freedom <= 0 for slice\n",
      "  return _methods._var(a, axis=axis, dtype=dtype, out=out, ddof=ddof,\n",
      "/Users/mohammadbasiruddin/opt/anaconda3/lib/python3.9/site-packages/numpy/core/_methods.py:253: RuntimeWarning: invalid value encountered in double_scalars\n",
      "  ret = ret.dtype.type(ret / rcount)\n"
     ]
    }
   ],
   "source": [
    "#verify whether the samples have the same mean using Pearson’s t-test.\n",
    "\n",
    "to,pv=scipy.stats.ttest_ind(mean1,mean2)\n",
    "print('The Samples do not have the same mean')"
   ]
  },
  {
   "cell_type": "code",
   "execution_count": null,
   "id": "84bea91b",
   "metadata": {},
   "outputs": [],
   "source": []
  },
  {
   "cell_type": "code",
   "execution_count": null,
   "id": "8398ba2e",
   "metadata": {},
   "outputs": [],
   "source": []
  },
  {
   "cell_type": "code",
   "execution_count": null,
   "id": "d7f18203",
   "metadata": {},
   "outputs": [],
   "source": []
  }
 ],
 "metadata": {
  "kernelspec": {
   "display_name": "Python 3 (ipykernel)",
   "language": "python",
   "name": "python3"
  },
  "language_info": {
   "codemirror_mode": {
    "name": "ipython",
    "version": 3
   },
   "file_extension": ".py",
   "mimetype": "text/x-python",
   "name": "python",
   "nbconvert_exporter": "python",
   "pygments_lexer": "ipython3",
   "version": "3.7.13"
  }
 },
 "nbformat": 4,
 "nbformat_minor": 5
}
