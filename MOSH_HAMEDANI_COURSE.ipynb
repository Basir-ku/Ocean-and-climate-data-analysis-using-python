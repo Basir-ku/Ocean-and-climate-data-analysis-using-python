{
 "cells": [
  {
   "cell_type": "code",
   "execution_count": 1,
   "id": "3ef3edec",
   "metadata": {},
   "outputs": [
    {
     "name": "stdout",
     "output_type": "stream",
     "text": [
      "Mosh Hamedani\n",
      "0----\n",
      " ||||\n",
      "**********\n"
     ]
    }
   ],
   "source": [
    "print('Mosh Hamedani')\n",
    "print('0----')\n",
    "print(' ||||')\n",
    "print('*'*10)"
   ]
  },
  {
   "cell_type": "code",
   "execution_count": 2,
   "id": "1430b3c8",
   "metadata": {},
   "outputs": [
    {
     "name": "stdout",
     "output_type": "stream",
     "text": [
      "20\n"
     ]
    }
   ],
   "source": [
    "#variable\n",
    "price=10\n",
    "price=20\n",
    "rating=4.5\n",
    "name=\"Mosh\"\n",
    "is_published=True\n",
    "print(price)"
   ]
  },
  {
   "cell_type": "code",
   "execution_count": 3,
   "id": "49934811",
   "metadata": {},
   "outputs": [],
   "source": [
    "#exercise\n",
    "patient_name='Jhon smith'\n",
    "age=20\n",
    "is_new_patient=True"
   ]
  },
  {
   "cell_type": "code",
   "execution_count": 4,
   "id": "14448727",
   "metadata": {},
   "outputs": [
    {
     "name": "stdout",
     "output_type": "stream",
     "text": [
      "what is your name Mosh\n",
      "hi Mosh\n"
     ]
    }
   ],
   "source": [
    "#receive input from user\n",
    "name=input('what is your name ')\n",
    "print('hi ' + name)"
   ]
  },
  {
   "cell_type": "code",
   "execution_count": 5,
   "id": "c9813f9c",
   "metadata": {},
   "outputs": [
    {
     "name": "stdout",
     "output_type": "stream",
     "text": [
      "person name mosh\n",
      "favourite colureblue\n",
      "mosh likes blue\n"
     ]
    }
   ],
   "source": [
    "#exercise\n",
    "name=input('person name ')\n",
    "colour=input('favourite colure')\n",
    "print(name + ' likes ' + colour)"
   ]
  },
  {
   "cell_type": "code",
   "execution_count": 6,
   "id": "2f7c844c",
   "metadata": {},
   "outputs": [
    {
     "name": "stdout",
     "output_type": "stream",
     "text": [
      "birth year : 1995\n",
      "<class 'str'>\n",
      "27\n",
      "<class 'int'>\n"
     ]
    }
   ],
   "source": [
    "#Type conversion\n",
    "birth_year=input(\"birth year : \")\n",
    "print(type(birth_year))\n",
    "age=2022 - int(birth_year)\n",
    "print(age)\n",
    "print(type(age))"
   ]
  },
  {
   "cell_type": "code",
   "execution_count": 7,
   "id": "10046c3d",
   "metadata": {},
   "outputs": [
    {
     "name": "stdout",
     "output_type": "stream",
     "text": [
      "weight in pound: 99\n",
      "44.905608\n"
     ]
    }
   ],
   "source": [
    "#exercise\n",
    "weight=input(\"weight in pound: \")\n",
    "conversion_to_kg= float(weight) * 0.453592\n",
    "print(conversion_to_kg)"
   ]
  },
  {
   "cell_type": "code",
   "execution_count": 16,
   "id": "32b11f40",
   "metadata": {},
   "outputs": [
    {
     "name": "stdout",
     "output_type": "stream",
     "text": [
      "Python for Beginners\n",
      "P\n",
      "yt\n",
      "Python for Beginners\n",
      "s\n",
      "Pytho\n",
      "n for Beginners\n",
      "ennnife\n"
     ]
    }
   ],
   "source": [
    "#Strings and strings indexing\n",
    "\n",
    "#course='Python for \"Beginners\"'\n",
    "#course=\"python's for Beginners\"\n",
    "course='Python for Beginners'\n",
    "print(course)\n",
    "print(course[0])\n",
    "print(course[1:3])\n",
    "print(course[:])\n",
    "print(course[-1])\n",
    "print(course[:5])\n",
    "print(course[5:])\n",
    "name='jennnifer'\n",
    "print(name[1:-1])"
   ]
  },
  {
   "cell_type": "code",
   "execution_count": 25,
   "id": "e9ca2fcf",
   "metadata": {},
   "outputs": [
    {
     "name": "stdout",
     "output_type": "stream",
     "text": [
      "Jhon[Smith ]is a coder\n",
      "Jhon ['Smith'] is a coder\n"
     ]
    }
   ],
   "source": [
    "#Formatted strings\n",
    "#print= Jhon [smith] is a code (QUESTION)\n",
    "\n",
    "first='Jhon'\n",
    "last='Smith'\n",
    "message= first + '[' +last+ ' ]' +  'is a coder'#normal code very compeicated\n",
    "print(message)\n",
    "msg=f'{first} {[last]} is a coder'# formatted string\n",
    "print(msg)"
   ]
  },
  {
   "cell_type": "code",
   "execution_count": 39,
   "id": "c48e5b50",
   "metadata": {},
   "outputs": [
    {
     "name": "stdout",
     "output_type": "stream",
     "text": [
      "20\n",
      "PYTHON FOR BEGINNERS\n",
      "python for beginners\n",
      "0\n",
      "11\n",
      "11\n",
      "Python for Absolute Beginners\n",
      "Jython for Beginners\n",
      "False\n",
      "True\n"
     ]
    }
   ],
   "source": [
    "#string methods\n",
    "course='Python for Beginners'\n",
    "print(len(course))\n",
    "print(course.upper())\n",
    "print(course.lower())\n",
    "print(course.find('P'))\n",
    "print(course.find('B'))\n",
    "print(course.find('Beginners'))\n",
    "print(course.replace('Beginners', 'Absolute Beginners'))#REPLACE A WORD\n",
    "print(course.replace('P', 'J'))#REPLACE A LETTER\n",
    "print('jython' in course) #BOOLEAN EXPRESSION LIKE TRUE OR FALSE\n",
    "print('Python' in course)"
   ]
  },
  {
   "cell_type": "code",
   "execution_count": 44,
   "id": "4b7e8b6f",
   "metadata": {},
   "outputs": [
    {
     "name": "stdout",
     "output_type": "stream",
     "text": [
      "13\n",
      "7\n",
      "30\n",
      "3.3333333333333335\n",
      "3\n",
      "1\n",
      "1000\n",
      "12\n"
     ]
    }
   ],
   "source": [
    "#Arithmatic operation\n",
    "print(10+3)\n",
    "print(10-3)\n",
    "print(10*3)\n",
    "print(10/3)\n",
    "print(10//3)\n",
    "print(10%3)\n",
    "print(10**3)\n",
    "x=10\n",
    "x=x+3\n",
    "x+=1 #argumented assingment operator\n",
    "x-=2 #argumented assingment operator\n",
    "print(x)"
   ]
  },
  {
   "cell_type": "code",
   "execution_count": null,
   "id": "04d17e68",
   "metadata": {},
   "outputs": [],
   "source": [
    "#Operator precedane \n",
    "# paranthesis then exponentiation then diveision and multplication ther addition and subtraction \n"
   ]
  },
  {
   "cell_type": "code",
   "execution_count": 51,
   "id": "fbef0046",
   "metadata": {},
   "outputs": [
    {
     "name": "stdout",
     "output_type": "stream",
     "text": [
      "3\n",
      "5\n",
      "5\n",
      "4\n"
     ]
    }
   ],
   "source": [
    "#Math Functions\n",
    "import math # importing math module\n",
    "x=2.9\n",
    "print(round(x))\n",
    "print(abs(-5))\n",
    "print(math.ceil(4.9))\n",
    "print(math.floor(4.9))\n",
    "\n",
    "## FOR OVSERVING ALL THE FUNCTION IN MATH MODULE, SEE THE MATH MODULE IN WEB"
   ]
  },
  {
   "cell_type": "code",
   "execution_count": 54,
   "id": "c802fd83",
   "metadata": {},
   "outputs": [
    {
     "name": "stdout",
     "output_type": "stream",
     "text": [
      "it's a lovely day\n",
      "enjoy your day\n"
     ]
    }
   ],
   "source": [
    "#IF STATESMENT\n",
    "is_hot=False \n",
    "is_cold=False\n",
    "\n",
    "if is_hot:\n",
    "    print(\"it's a hot day\")\n",
    "    print('drink pleanty of water')\n",
    "elif is_cold:\n",
    "    print(\"it's a cold day\")\n",
    "    print('wear warm cloth')\n",
    "else:\n",
    "    print(\"it's a lovely day\")\n",
    "    \n",
    "print('enjoy your day')\n"
   ]
  },
  {
   "cell_type": "code",
   "execution_count": 63,
   "id": "cd1870ad",
   "metadata": {},
   "outputs": [
    {
     "name": "stdout",
     "output_type": "stream",
     "text": [
      "down payment = $100000.0\n"
     ]
    }
   ],
   "source": [
    "#exercise\n",
    "\n",
    "price=1000000\n",
    "is_good_credit= True\n",
    "\n",
    "if is_good_credit:\n",
    "    down_payment=0.1*price\n",
    "    \n",
    "else:\n",
    "    down_payment=0.2*price\n",
    "    \n",
    "print(f'down payment = ${down_payment}')"
   ]
  },
  {
   "cell_type": "code",
   "execution_count": 7,
   "id": "0eaa0542",
   "metadata": {},
   "outputs": [
    {
     "name": "stdout",
     "output_type": "stream",
     "text": [
      "not elegibale for load\n"
     ]
    }
   ],
   "source": [
    "#logical operator\n",
    "\n",
    "has_high_income= True\n",
    "has_good_credit= False\n",
    "\n",
    "if has_high_income and has_good_credit: #both condtion must be true\n",
    "    print('elegible for loan')\n",
    "else:\n",
    "    print('not elegibale for load')"
   ]
  },
  {
   "cell_type": "code",
   "execution_count": 8,
   "id": "1a9c77cc",
   "metadata": {},
   "outputs": [
    {
     "name": "stdout",
     "output_type": "stream",
     "text": [
      "elegible for loan\n"
     ]
    }
   ],
   "source": [
    "has_high_income= True\n",
    "has_good_credit= False\n",
    "\n",
    "if has_high_income or has_good_credit: #at least one condition must be true\n",
    "    print('elegible for loan')"
   ]
  },
  {
   "cell_type": "code",
   "execution_count": 11,
   "id": "1ad1962b",
   "metadata": {},
   "outputs": [
    {
     "name": "stdout",
     "output_type": "stream",
     "text": [
      "elegible for loan\n"
     ]
    }
   ],
   "source": [
    "has_high_income= True\n",
    "has_criminal_record=False\n",
    "\n",
    "if has_high_income and not has_criminal_record:\n",
    "    print('elegible for loan')"
   ]
  },
  {
   "cell_type": "code",
   "execution_count": 1,
   "id": "9638e63e",
   "metadata": {},
   "outputs": [
    {
     "name": "stdout",
     "output_type": "stream",
     "text": [
      "it's not a hot day\n"
     ]
    }
   ],
   "source": [
    "#comparison operator\n",
    "temperature = 30\n",
    "\n",
    "if temperature > 30:\n",
    "    print(\"it's a hot day\")\n",
    "else:\n",
    "    print(\"it's not a hot day\")\n",
    "\n"
   ]
  },
  {
   "cell_type": "code",
   "execution_count": 4,
   "id": "8f069905",
   "metadata": {},
   "outputs": [
    {
     "name": "stdout",
     "output_type": "stream",
     "text": [
      "name lokks good\n"
     ]
    }
   ],
   "source": [
    "#exercise\n",
    "\n",
    "name= \"john smith\"\n",
    "\n",
    "if len(name) < 3:\n",
    "    print(\"name must be at least three characters\")\n",
    "elif len(name) > 10:\n",
    "    print(\"name can be maximum ten characters\")\n",
    "else:\n",
    "    print(\"name looks good\")"
   ]
  },
  {
   "cell_type": "code",
   "execution_count": 16,
   "id": "877ce8e8",
   "metadata": {},
   "outputs": [
    {
     "name": "stdout",
     "output_type": "stream",
     "text": [
      "weight72\n",
      "(L)bs or (K)gk\n",
      "you are 160.0 pounds\n"
     ]
    }
   ],
   "source": [
    "#exercise\n",
    "\n",
    "weight= int(input('weight'))\n",
    "unit=input(\"(L)bs or (K)g\")\n",
    "\n",
    "if unit.upper()== \"L\":\n",
    "    converted = weight * 0.45\n",
    "    print(f\"you are {converted} kilos\")\n",
    "else:\n",
    "    converted = weight / 0.45\n",
    "    print(f\"you are {converted} pounds\")"
   ]
  },
  {
   "cell_type": "code",
   "execution_count": 1,
   "id": "ef256a9d",
   "metadata": {},
   "outputs": [
    {
     "name": "stdout",
     "output_type": "stream",
     "text": [
      "1\n",
      "2\n",
      "3\n",
      "4\n",
      "5\n",
      "done\n"
     ]
    }
   ],
   "source": [
    "##while loop\n",
    "i =1\n",
    "while i<= 5:\n",
    "    print(i)\n",
    "    i=i+1\n",
    "print('done')\n",
    "\n"
   ]
  },
  {
   "cell_type": "code",
   "execution_count": 2,
   "id": "7091bf3c",
   "metadata": {},
   "outputs": [
    {
     "name": "stdout",
     "output_type": "stream",
     "text": [
      "*\n",
      "**\n",
      "***\n",
      "****\n",
      "*****\n",
      "done\n"
     ]
    }
   ],
   "source": [
    "i =1\n",
    "while i<= 5:\n",
    "    print('*'* i)\n",
    "    i=i+1\n",
    "print('done')"
   ]
  },
  {
   "cell_type": "code",
   "execution_count": 7,
   "id": "6faa8df6",
   "metadata": {},
   "outputs": [
    {
     "name": "stdout",
     "output_type": "stream",
     "text": [
      "guess: 9\n",
      "you win\n"
     ]
    }
   ],
   "source": [
    "#guessing game\n",
    "secret_number = 9\n",
    "guess_count = 0\n",
    "guess_limit = 3\n",
    "\n",
    "while guess_count < guess_limit:\n",
    "    guess= int(input('guess: '))\n",
    "    guess_count = guess_count+1 \n",
    "    \n",
    "    if guess == secret_number:\n",
    "        print(\"you win\")\n",
    "        break \n",
    "else:\n",
    "    print('you loose')\n",
    "        "
   ]
  },
  {
   "cell_type": "code",
   "execution_count": null,
   "id": "02db51f7",
   "metadata": {},
   "outputs": [],
   "source": []
  },
  {
   "cell_type": "code",
   "execution_count": 15,
   "id": "a229a220",
   "metadata": {},
   "outputs": [
    {
     "name": "stdout",
     "output_type": "stream",
     "text": [
      ">ASS\n",
      "sorry i don't understand\n",
      ">START\n",
      "car started...\n",
      ">START\n",
      "car already started \n",
      ">STOP\n",
      "car stopped\n",
      ">STOP\n",
      "car already stopped\n",
      ">HELP\n",
      "\n",
      "start- to start the car \n",
      "stop- to stop the car\n",
      "quit- to not start\n",
      ">QUIT\n"
     ]
    }
   ],
   "source": [
    "#car game \n",
    "command= \"\" \n",
    "started= False \n",
    "#stopped = False\n",
    "while True:\n",
    "    command = input(\">\").lower()\n",
    "    if command == \"start\":\n",
    "        if started:\n",
    "            print(\"car already started \")\n",
    "        else:\n",
    "            started= True\n",
    "            print(\"car started...\")\n",
    "\n",
    "    elif command == \"stop\":\n",
    "        if not started:\n",
    "            print(\"car already stopped\")\n",
    "        else:\n",
    "            started = False\n",
    "            print('car stopped')\n",
    "\n",
    "\n",
    "    elif command == \"help\":\n",
    "        print(\"\"\"\n",
    "start- to start the car \n",
    "stop- to stop the car\n",
    "quit- to not start\"\"\")\n",
    "    elif command == \"quit\": \n",
    "        break \n",
    "    else: print(\"sorry i don't understand\")\n",
    "    "
   ]
  },
  {
   "cell_type": "code",
   "execution_count": 17,
   "id": "5cd1807b",
   "metadata": {},
   "outputs": [
    {
     "name": "stdout",
     "output_type": "stream",
     "text": [
      "p\n",
      "y\n",
      "t\n",
      "h\n",
      "o\n",
      "n\n"
     ]
    }
   ],
   "source": [
    "#for loops\n",
    "\n",
    "for item in \"python\":\n",
    "    print(item)"
   ]
  },
  {
   "cell_type": "code",
   "execution_count": 18,
   "id": "69ae5c26",
   "metadata": {},
   "outputs": [
    {
     "name": "stdout",
     "output_type": "stream",
     "text": [
      "mosh\n",
      "jhon\n",
      "sarah\n"
     ]
    }
   ],
   "source": [
    "for item in ['mosh', 'jhon', 'sarah']: #using list. we use square bracket\n",
    "    print(item)"
   ]
  },
  {
   "cell_type": "code",
   "execution_count": 19,
   "id": "94c24ed3",
   "metadata": {},
   "outputs": [
    {
     "name": "stdout",
     "output_type": "stream",
     "text": [
      "1\n",
      "2\n",
      "3\n"
     ]
    }
   ],
   "source": [
    "for item in [1,2,3]:  #using list. we use square bracket\n",
    "    print(item)"
   ]
  },
  {
   "cell_type": "code",
   "execution_count": 20,
   "id": "69873a50",
   "metadata": {},
   "outputs": [
    {
     "name": "stdout",
     "output_type": "stream",
     "text": [
      "0\n",
      "1\n",
      "2\n",
      "3\n",
      "4\n",
      "5\n",
      "6\n",
      "7\n",
      "8\n",
      "9\n"
     ]
    }
   ],
   "source": [
    "for item in range(10):\n",
    "    print(item)"
   ]
  },
  {
   "cell_type": "code",
   "execution_count": 21,
   "id": "02ca13c7",
   "metadata": {},
   "outputs": [
    {
     "name": "stdout",
     "output_type": "stream",
     "text": [
      "5\n",
      "6\n",
      "7\n",
      "8\n",
      "9\n"
     ]
    }
   ],
   "source": [
    "for item in range(5,10):\n",
    "    print(item)"
   ]
  },
  {
   "cell_type": "code",
   "execution_count": 22,
   "id": "fea85835",
   "metadata": {},
   "outputs": [
    {
     "name": "stdout",
     "output_type": "stream",
     "text": [
      "5\n",
      "7\n",
      "9\n"
     ]
    }
   ],
   "source": [
    "for item in range(5,10,2):\n",
    "    print(item)"
   ]
  },
  {
   "cell_type": "code",
   "execution_count": 30,
   "id": "811b8edf",
   "metadata": {},
   "outputs": [
    {
     "name": "stdout",
     "output_type": "stream",
     "text": [
      "Total: 60\n"
     ]
    }
   ],
   "source": [
    "prices = [10,20,30]\n",
    "total = 0\n",
    "for price in prices:\n",
    "    total = total+price #total += price\n",
    "print(f\"Total: {total}\")"
   ]
  },
  {
   "cell_type": "code",
   "execution_count": 33,
   "id": "3d2a3918",
   "metadata": {},
   "outputs": [
    {
     "name": "stdout",
     "output_type": "stream",
     "text": [
      "(0,0)\n",
      "(0,1)\n",
      "(0,2)\n",
      "(1,0)\n",
      "(1,1)\n",
      "(1,2)\n",
      "(2,0)\n",
      "(2,1)\n",
      "(2,2)\n",
      "(3,0)\n",
      "(3,1)\n",
      "(3,2)\n"
     ]
    }
   ],
   "source": [
    "##nested loops\n",
    "\n",
    "#bulid a coordinat like (x,y)\n",
    "\n",
    "for x in range(4):\n",
    "    for y in range(3):\n",
    "        print(f\"({x},{y})\")"
   ]
  },
  {
   "cell_type": "code",
   "execution_count": 39,
   "id": "7255b3d4",
   "metadata": {},
   "outputs": [
    {
     "name": "stdout",
     "output_type": "stream",
     "text": [
      "X\n",
      "XX\n",
      "XXX\n",
      "XXXX\n",
      "XXXXX\n",
      "X\n",
      "XX\n",
      "X\n",
      "XX\n",
      "XXX\n",
      "XXXX\n",
      "XXXXX\n",
      "X\n",
      "XX\n",
      "X\n",
      "XX\n"
     ]
    }
   ],
   "source": [
    "numbers=[5,2,5,2,2]\n",
    "for x_count in numbers:\n",
    "    output=\"\"\n",
    "    for count in range(x_count):\n",
    "        output+=\"X\"\n",
    "        print(output)"
   ]
  },
  {
   "cell_type": "code",
   "execution_count": 51,
   "id": "2324a0e2",
   "metadata": {},
   "outputs": [
    {
     "name": "stdout",
     "output_type": "stream",
     "text": [
      "['jhon', 'mosh', 'karim', 'rahim', 'rafiq']\n",
      "jhon\n",
      "mosh\n",
      "['mosh', 'karim']\n",
      "['jhon', 'mosh', 'karim', 'rahim', 'rafiq']\n",
      "['jhon', 'mosh']\n",
      "['rahim', 'rafiq']\n",
      "rafiq\n",
      "['jon', 'mosh', 'karim', 'rahim', 'rafiq']\n"
     ]
    }
   ],
   "source": [
    "##list\n",
    "\n",
    "names=['jhon','mosh','karim','rahim','rafiq']\n",
    "print(names)\n",
    "print(names[0])\n",
    "print(names[1])\n",
    "print(names[1:3])\n",
    "print(names[:])\n",
    "print(names[:2])\n",
    "print(names[3:])\n",
    "print(names[-1])\n",
    "\n",
    "#replace an item in list. eaxmple\n",
    "names[0]= 'jon'\n",
    "print(names)"
   ]
  },
  {
   "cell_type": "code",
   "execution_count": 54,
   "id": "27b7f701",
   "metadata": {},
   "outputs": [
    {
     "name": "stdout",
     "output_type": "stream",
     "text": [
      "maximum number is: 50\n"
     ]
    }
   ],
   "source": [
    "#ex: find the largest number in the list\n",
    "\n",
    "numbers =[1,3,5,10,50]\n",
    "maximum = numbers[0]\n",
    "\n",
    "for number in numbers:\n",
    "    if number > maximum:\n",
    "        maximum = number\n",
    "print(f\"maximum number is: {maximum}\")\n"
   ]
  },
  {
   "cell_type": "code",
   "execution_count": 63,
   "id": "ed2e3d38",
   "metadata": {},
   "outputs": [
    {
     "name": "stdout",
     "output_type": "stream",
     "text": [
      "[[1, 2, 3], [3, 4, 5], [6, 7, 8]]\n",
      "[1, 2, 3]\n",
      "[3, 4, 5]\n",
      "[6, 7, 8]\n",
      "2\n",
      "4\n",
      "[[1, 2, 3], [3, 20, 5], [6, 7, 8]]\n",
      "1\n",
      "2\n",
      "3\n",
      "3\n",
      "20\n",
      "5\n",
      "6\n",
      "7\n",
      "8\n"
     ]
    }
   ],
   "source": [
    "#2D lists\n",
    "\n",
    "matrix=[\n",
    "    [1,2,3],\n",
    "    [3,4,5],\n",
    "    [6,7,8]\n",
    "]\n",
    "\n",
    "print(matrix)\n",
    "\n",
    "#get the row\n",
    "\n",
    "print(matrix[0])\n",
    "print(matrix[1])\n",
    "print(matrix[2])\n",
    "\n",
    "## get the iteam in row\n",
    "#get 2 in first row\n",
    "print(matrix[0][1]) # first select the row which is \"0\" then select the index number which \"1\" of this row\n",
    "#get 4 in row two\n",
    "print(matrix[1][1])\n",
    "\n",
    "##replce an item\n",
    "\n",
    "##replace 4 into 20\n",
    "matrix[1][1]= 20\n",
    "print(matrix)\n",
    "\n",
    "#loops in matrix\n",
    "\n",
    "for row in matrix:\n",
    "    for item in row:\n",
    "        print(item)"
   ]
  },
  {
   "cell_type": "code",
   "execution_count": 90,
   "id": "0d7192f6",
   "metadata": {},
   "outputs": [
    {
     "name": "stdout",
     "output_type": "stream",
     "text": [
      "[1, 4, 7, 9, 10, 16, 4, 4, 20]\n",
      "[15, 1, 4, 7, 9, 10, 16, 4, 4, 20]\n",
      "[15, 1, 16, 4, 7, 9, 10, 16, 4, 4, 20]\n",
      "[15, 1, 16, 7, 9, 10, 16, 4, 4, 20]\n",
      "[15, 1, 16, 7, 9, 10, 16, 4, 4]\n",
      "3\n",
      "False\n",
      "True\n",
      "[15, 1, 16, 7, 9, 10, 16, 4, 4]\n",
      "2\n",
      "[1, 4, 4, 7, 9, 10, 15, 16, 16]\n",
      "[16, 16, 15, 10, 9, 7, 4, 4, 1]\n",
      "[16, 16, 15, 10, 9, 7, 4, 4, 1]\n",
      "[16, 16, 15, 10, 9, 7, 4, 4, 1, 90]\n",
      "[16, 16, 15, 10, 9, 7, 4, 1]\n",
      "[16, 15, 10, 9, 7, 4, 1]\n",
      "[]\n"
     ]
    }
   ],
   "source": [
    "##list methods or list functions\n",
    "\n",
    "numbers= [1,4,7,9,10,16,4,4]\n",
    "numbers.append(20)# add number at end the of list\n",
    "print(numbers)\n",
    "\n",
    "numbers.insert(0,15) # add the in your anywhere. 1st selsct the index then give the number. here I select index\n",
    "                     # \"0\" then give the number 15. so 15 will be appear at the beginning.\n",
    "print(numbers)\n",
    "\n",
    "#again\n",
    "numbers.insert(2,16)\n",
    "print(numbers)\n",
    "\n",
    "#remove the iteam\n",
    "numbers.remove(4) # selsct the item whst you want to delete\n",
    "print(numbers)\n",
    "\n",
    "#remove the last iteam in list using pop\n",
    "numbers.pop()\n",
    "print(numbers)\n",
    "\n",
    "#get the index number of an item\n",
    "print(numbers.index(7)) # slect the index \n",
    "#print(numbers.index(50)) # this  will say 50 is not in the list\n",
    "\n",
    "print(50 in numbers)\n",
    "print(7 in numbers)\n",
    "print(numbers)\n",
    "print(numbers.count(4)) # get the same number how many time in the list\n",
    "\n",
    "numbers.sort() # set the itam in ascending order\n",
    "print(numbers)\n",
    "numbers.reverse() # descending orders\n",
    "print(numbers)\n",
    "\n",
    "number2=numbers.copy()\n",
    "number2.append(90)\n",
    "print(numbers)\n",
    "print(number2)\n",
    "\n",
    "numbers.remove(4)\n",
    "print(numbers)\n",
    "numbers.remove(16)\n",
    "print(numbers)\n",
    "\n",
    "# we can also clear all the item\n",
    "numbers.clear()\n",
    "print(numbers)"
   ]
  },
  {
   "cell_type": "code",
   "execution_count": 102,
   "id": "faa89de4",
   "metadata": {},
   "outputs": [
    {
     "name": "stdout",
     "output_type": "stream",
     "text": [
      "[1, 2, 3, 4, 5]\n"
     ]
    }
   ],
   "source": [
    "#remove the duplcate number \n",
    "\n",
    "numbers= [1,2,3,2,4,5,4]\n",
    "uniqes=[]\n",
    "\n",
    "for number in numbers:\n",
    "    if number not in uniqes:\n",
    "       uniqes.append(number)\n",
    "print(uniqes)"
   ]
  },
  {
   "cell_type": "code",
   "execution_count": 6,
   "id": "aae3ce50",
   "metadata": {},
   "outputs": [
    {
     "name": "stdout",
     "output_type": "stream",
     "text": [
      "1\n"
     ]
    }
   ],
   "source": [
    "##Tupels\n",
    "\n",
    "#important to note that tuples can not modify that means tuples are immutable \n",
    "#it is similler to list but used 1st brcaket insted of 3rd bracket\n",
    "\n",
    "numbers=(1,2,3)\n",
    "print(numbers[0])"
   ]
  },
  {
   "cell_type": "code",
   "execution_count": 11,
   "id": "637d9cd2",
   "metadata": {},
   "outputs": [
    {
     "name": "stdout",
     "output_type": "stream",
     "text": [
      "4\n",
      "1\n",
      "2\n",
      "3\n"
     ]
    }
   ],
   "source": [
    "##unpacking\n",
    "\n",
    "Coordinates=(1,2,3)\n",
    "x=Coordinates[0]\n",
    "y=Coordinates[1]\n",
    "z=Coordinates[2]\n",
    "\n",
    "print(x*y*y)\n",
    "\n",
    "#unpacking\n",
    "\n",
    "x,y,z=Coordinates #this line is same for upper three line\n",
    "\n",
    "print(x)\n",
    "print(y)\n",
    "print(z)\n",
    "\n",
    "#we can do same thhings for list"
   ]
  },
  {
   "cell_type": "code",
   "execution_count": 32,
   "id": "f053569b",
   "metadata": {},
   "outputs": [
    {
     "name": "stdout",
     "output_type": "stream",
     "text": [
      "{'name': 'jhon smith', 'age': 30, 'is_verfied': True, 'birthdate': '09 jan 1995'}\n",
      "jhon smith\n",
      "jhon smith\n",
      "09 jan 1995\n"
     ]
    }
   ],
   "source": [
    "###dictionaries\n",
    "#takes key value pairs\n",
    "\n",
    "customer={\n",
    "    'name' : 'jhon smith',\n",
    "    'age' : 30,\n",
    "    'is_verfied' : True\n",
    "}\n",
    "#customer['name']= 'jack smiit' # to update the name or something\n",
    "customer['birthdate']='09 jan 1995' #add new value in dictionaries\n",
    "print(customer)\n",
    "print(customer['name']) #get the item in the Dictionary \n",
    "print(customer.get(\"name\")) #can also be used get method\n",
    "\n",
    "\n",
    "##print(customer.get('birthdate')) #will give you error because this doesn't exist in the dictionaries\n",
    "\n",
    "print(customer.get(\"birthdate\", 'jan,1995'))"
   ]
  },
  {
   "cell_type": "code",
   "execution_count": 41,
   "id": "9e7a3ad2",
   "metadata": {},
   "outputs": [
    {
     "name": "stdout",
     "output_type": "stream",
     "text": [
      "phone124\n",
      "one two ! \n"
     ]
    }
   ],
   "source": [
    "phone = input('phone')\n",
    "digits_mapping={\n",
    "    '1':'one',\n",
    "    '2':'two',\n",
    "    '3':'three'\n",
    "\n",
    "}\n",
    "output=\"\"\n",
    "for ch in phone:\n",
    "    output+=digits_mapping.get(ch , '!') + ' '\n",
    "print(output)"
   ]
  },
  {
   "cell_type": "code",
   "execution_count": 48,
   "id": "875894f0",
   "metadata": {},
   "outputs": [
    {
     "name": "stdout",
     "output_type": "stream",
     "text": [
      ">ver bad work :(\n",
      "ver bad work 😞 \n"
     ]
    }
   ],
   "source": [
    "##emoji converter\n",
    "message =(input('>'))\n",
    "emoji={\n",
    "    ':)' : '😀',\n",
    "    ':(' : '😞'\n",
    "}\n",
    "words= message.split()\n",
    "output=\"\"\n",
    "for word in words:\n",
    "    output+=emoji.get(word, word) +\" \"\n",
    "print(output)\n"
   ]
  },
  {
   "cell_type": "code",
   "execution_count": 6,
   "id": "24387938",
   "metadata": {},
   "outputs": [
    {
     "name": "stdout",
     "output_type": "stream",
     "text": [
      "start\n",
      "hi there!!\n",
      "welcome board\n",
      "finish\n"
     ]
    }
   ],
   "source": [
    "##functions\n",
    "def great_user(): # def means defining a function, function should have a name. here great_user() is the name\n",
    "    print(\"hi there!!\")\n",
    "    print(\"welcome board\")\n",
    "    \n",
    "    \n",
    "\n",
    "print(\"start\")\n",
    "great_user() #you need to call the function for execution\n",
    "print(\"finish\")"
   ]
  },
  {
   "cell_type": "code",
   "execution_count": 3,
   "id": "4f3fa473",
   "metadata": {
    "scrolled": true
   },
   "outputs": [
    {
     "name": "stdout",
     "output_type": "stream",
     "text": [
      "start\n",
      "hi jhon there!!\n",
      "welcome board\n",
      "finish\n"
     ]
    }
   ],
   "source": [
    "###parameter\n",
    "def great_user(name): #here name is the parameter\n",
    "    print(f\"hi {name} there!!\")\n",
    "    print(\"welcome board\")\n",
    "    \n",
    "    \n",
    "\n",
    "print(\"start\")\n",
    "great_user(\"jhon\")\n",
    "print(\"finish\")\n",
    "    \n"
   ]
  },
  {
   "cell_type": "code",
   "execution_count": 10,
   "id": "a2f572bf",
   "metadata": {},
   "outputs": [
    {
     "name": "stdout",
     "output_type": "stream",
     "text": [
      "start\n",
      "hi jhon !!\n",
      "welcome board\n",
      "hi marry !!\n",
      "welcome board\n",
      "finish\n"
     ]
    }
   ],
   "source": [
    "###parameter\n",
    "def great_user(name): #here name is the parameter\n",
    "    print(f\"hi {name} !!\")\n",
    "    print(\"welcome board\")\n",
    "    \n",
    "    \n",
    "\n",
    "print(\"start\")\n",
    "great_user(\"jhon\")\n",
    "great_user(\"marry\")\n",
    "print(\"finish\")"
   ]
  },
  {
   "cell_type": "code",
   "execution_count": 11,
   "id": "55dca999",
   "metadata": {},
   "outputs": [
    {
     "name": "stdout",
     "output_type": "stream",
     "text": [
      "start\n",
      "hi jhon smith !!\n",
      "welcome board\n",
      "finish\n"
     ]
    }
   ],
   "source": [
    "###parameter\n",
    "def great_user(first_name,last_name): #here name is the parameter\n",
    "    print(f\"hi {first_name} {last_name} !!\")\n",
    "    print(\"welcome board\")\n",
    "    \n",
    "    \n",
    "\n",
    "print(\"start\")\n",
    "great_user(\"jhon\", \"smith\")\n",
    "print(\"finish\")"
   ]
  },
  {
   "cell_type": "code",
   "execution_count": 12,
   "id": "2933b2dc",
   "metadata": {},
   "outputs": [
    {
     "name": "stdout",
     "output_type": "stream",
     "text": [
      "start\n",
      "hi jhon smith !!\n",
      "welcome board\n",
      "hi jhon smith !!\n",
      "welcome board\n",
      "finish\n"
     ]
    }
   ],
   "source": [
    "##key arguments\n",
    "def great_user(first_name,last_name): #here name is the parameter\n",
    "    print(f\"hi {first_name} {last_name} !!\")\n",
    "    print(\"welcome board\")\n",
    "    \n",
    "    \n",
    "print(\"start\")\n",
    "#great_user(\"jhon\", \"smith\") #this is positional arguments. most of the time we use it\n",
    "great_user(first_name=\"jhon\", last_name=\"smith\") ## this is keyword argument.it useful for the rediability\n",
    "great_user(\"jhon\", \"smith\")\n",
    "print(\"finish\")\n"
   ]
  },
  {
   "cell_type": "code",
   "execution_count": null,
   "id": "aa434735",
   "metadata": {},
   "outputs": [],
   "source": [
    "## return statement\n",
    "\n"
   ]
  }
 ],
 "metadata": {
  "kernelspec": {
   "display_name": "Python 3 (ipykernel)",
   "language": "python",
   "name": "python3"
  },
  "language_info": {
   "codemirror_mode": {
    "name": "ipython",
    "version": 3
   },
   "file_extension": ".py",
   "mimetype": "text/x-python",
   "name": "python",
   "nbconvert_exporter": "python",
   "pygments_lexer": "ipython3",
   "version": "3.7.13"
  }
 },
 "nbformat": 4,
 "nbformat_minor": 5
}
