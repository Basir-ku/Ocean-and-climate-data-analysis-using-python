{
 "cells": [
  {
   "cell_type": "code",
   "execution_count": null,
   "id": "efc720f0",
   "metadata": {},
   "outputs": [],
   "source": [
    "### NetCDF format. Introduction"
   ]
  },
  {
   "cell_type": "code",
   "execution_count": 15,
   "id": "4a5686f4",
   "metadata": {},
   "outputs": [
    {
     "name": "stdout",
     "output_type": "stream",
     "text": [
      "<class 'netCDF4._netCDF4.Dataset'>\n",
      "root group (NETCDF3_64BIT_OFFSET data model, file format NETCDF3):\n",
      "    Conventions: CF-1.6\n",
      "    history: 2021-05-02 21:24:59 GMT by grib_to_netcdf-2.21.0: grib_to_netcdf /data/scratch/20210502-2120/a3/_mars-webmars-public-svc-green-001-6fe5cac1a363ec1525f54343b6cc9fd8-2LxRK2.grib -o /data/scratch/20210502-2120/03/_grib2netcdf-webmars-public-svc-green-001-6fe5cac1a363ec1525f54343b6cc9fd8-vsRzHm.nc -utime\n",
      "    dimensions(sizes): longitude(144), latitude(73), level(9), time(12)\n",
      "    variables(dimensions): float32 longitude(longitude), float32 latitude(latitude), int32 level(level), int32 time(time), int16 t(time, level, latitude, longitude)\n",
      "    groups: \n"
     ]
    }
   ],
   "source": [
    "import netCDF4 as nc\n",
    "fname='2000monthly-meant.nc'\n",
    "ds=nc.Dataset(fname)\n",
    "print(ds)"
   ]
  },
  {
   "cell_type": "code",
   "execution_count": 16,
   "id": "05131800",
   "metadata": {},
   "outputs": [
    {
     "data": {
      "text/plain": [
       "masked_array(data=[191.55318027, 211.46708769, 225.61851056, 233.56521694,\n",
       "                   238.0930437 , 246.73340326, 247.08808676, 240.78235281,\n",
       "                   224.39507695, 204.20505517, 196.52548384, 203.96934777],\n",
       "             mask=False,\n",
       "       fill_value=1e+20)"
      ]
     },
     "execution_count": 16,
     "metadata": {},
     "output_type": "execute_result"
    }
   ],
   "source": [
    "ds[\"t\"][:,1,2,3]"
   ]
  },
  {
   "cell_type": "code",
   "execution_count": 17,
   "id": "e77949f2",
   "metadata": {},
   "outputs": [
    {
     "name": "stdout",
     "output_type": "stream",
     "text": [
      "<class 'netCDF4._netCDF4.Variable'>\n",
      "int16 t(time, level, latitude, longitude)\n",
      "    scale_factor: 0.002244832308960753\n",
      "    add_offset: 242.9284124959549\n",
      "    _FillValue: -32767\n",
      "    missing_value: -32767\n",
      "    units: K\n",
      "    long_name: Temperature\n",
      "    standard_name: air_temperature\n",
      "unlimited dimensions: time\n",
      "current shape = (12, 9, 73, 144)\n",
      "filling on\n"
     ]
    }
   ],
   "source": [
    "print(ds[\"t\"])"
   ]
  },
  {
   "cell_type": "code",
   "execution_count": 18,
   "id": "b68f5271",
   "metadata": {},
   "outputs": [
    {
     "name": "stdout",
     "output_type": "stream",
     "text": [
      "<class 'netCDF4._netCDF4.Variable'>\n",
      "int32 level(level)\n",
      "    units: millibars\n",
      "    long_name: pressure_level\n",
      "unlimited dimensions: \n",
      "current shape = (9,)\n",
      "filling on, default _FillValue of -2147483647 used\n"
     ]
    }
   ],
   "source": [
    "print(ds[\"level\"])"
   ]
  },
  {
   "cell_type": "code",
   "execution_count": 19,
   "id": "81210d8f",
   "metadata": {},
   "outputs": [
    {
     "name": "stdout",
     "output_type": "stream",
     "text": [
      "[   1   10  100  200  300  500  700  850 1000]\n"
     ]
    }
   ],
   "source": [
    "print(ds[\"level\"][:])\n"
   ]
  },
  {
   "cell_type": "code",
   "execution_count": 20,
   "id": "c3d27c6c",
   "metadata": {},
   "outputs": [],
   "source": [
    "import matplotlib.pyplot as plt\n",
    "import netCDF4 as nc\n",
    "import numpy as np\n",
    "fname='2000monthly-meant.nc'\n",
    "ds=nc.Dataset(fname)\n",
    "## Location of Hamburg is 53.55N, 10E\n",
    "# Find in the data latitude and longitude closest to Hamburg\n",
    "lat=ds[\"latitude\"][:]\n",
    "lon=ds[\"longitude\"][:]\n",
    "ilat=np.argmin(np.abs(lat-53.55))\n",
    "ilon=np.argmin(np.abs(lon-10.00))\n",
    "#As we learned before, the order of indices is time, level, latitude, longitude\n",
    "#near surface values correspond to the last level index\n",
    "#so the surface time series for Hamburg is\n",
    "t_ham=ds[\"t\"][:,-1,ilat,ilon]\n",
    "#plt.plot(ds[\"time\"][:],t_ham)"
   ]
  },
  {
   "cell_type": "code",
   "execution_count": 21,
   "id": "7e0f9886",
   "metadata": {},
   "outputs": [
    {
     "data": {
      "text/plain": [
       "[<matplotlib.lines.Line2D at 0x7fa4504545b0>]"
      ]
     },
     "execution_count": 21,
     "metadata": {},
     "output_type": "execute_result"
    },
    {
     "data": {
      "image/png": "[encoded data removed]",
      "text/plain": [
       "<Figure size 432x288 with 1 Axes>"
      ]
     },
     "metadata": {
      "needs_background": "light"
     },
     "output_type": "display_data"
    }
   ],
   "source": [
    "from cftime import num2date\n",
    "date=num2date(ds[\"time\"][:],units=ds[\"time\"].units,\n",
    "     calendar=ds[\"time\"].calendar)\n",
    "plt.plot_date(date,t_ham, 'b-o')"
   ]
  },
  {
   "cell_type": "code",
   "execution_count": null,
   "id": "6c2513ab",
   "metadata": {},
   "outputs": [],
   "source": []
  },
  {
   "cell_type": "code",
   "execution_count": null,
   "id": "cb0a57be",
   "metadata": {},
   "outputs": [],
   "source": []
  },
  {
   "cell_type": "code",
   "execution_count": null,
   "id": "51e6ec6f",
   "metadata": {},
   "outputs": [],
   "source": []
  }
 ],
 "metadata": {
  "kernelspec": {
   "display_name": "Python 3 (ipykernel)",
   "language": "python",
   "name": "python3"
  },
  "language_info": {
   "codemirror_mode": {
    "name": "ipython",
    "version": 3
   },
   "file_extension": ".py",
   "mimetype": "text/x-python",
   "name": "python",
   "nbconvert_exporter": "python",
   "pygments_lexer": "ipython3",
   "version": "3.9.7"
  }
 },
 "nbformat": 4,
 "nbformat_minor": 5
}
